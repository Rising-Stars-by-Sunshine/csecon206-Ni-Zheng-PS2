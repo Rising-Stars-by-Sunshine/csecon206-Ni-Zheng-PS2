{
  "cells": [
    {
      "cell_type": "markdown",
      "source": [
        "PS2"
      ],
      "metadata": {
        "id": "6YgQiYSdE_oX"
      }
    },
    {
      "cell_type": "code",
      "source": [
        "# install packages\n",
        "!pip install --upgrade pip\n",
        "!pip install nashpy\n",
        "!pip install quantecon"
      ],
      "metadata": {
        "colab": {
          "base_uri": "https://localhost:8080/"
        },
        "id": "8Mr84Izh8jb8",
        "outputId": "23c7b276-14d4-4eb7-ff26-90e5626b858d"
      },
      "execution_count": 2,
      "outputs": [
        {
          "output_type": "stream",
          "name": "stdout",
          "text": [
            "Looking in indexes: https://pypi.org/simple, https://us-python.pkg.dev/colab-wheels/public/simple/\n",
            "Requirement already satisfied: pip in /usr/local/lib/python3.9/dist-packages (23.1.1)\n",
            "\u001b[33mWARNING: Running pip as the 'root' user can result in broken permissions and conflicting behaviour with the system package manager. It is recommended to use a virtual environment instead: https://pip.pypa.io/warnings/venv\u001b[0m\u001b[33m\n",
            "\u001b[0mLooking in indexes: https://pypi.org/simple, https://us-python.pkg.dev/colab-wheels/public/simple/\n",
            "Requirement already satisfied: nashpy in /usr/local/lib/python3.9/dist-packages (0.0.37)\n",
            "Requirement already satisfied: numpy>=1.21.0 in /usr/local/lib/python3.9/dist-packages (from nashpy) (1.22.4)\n",
            "Requirement already satisfied: scipy>=0.19.0 in /usr/local/lib/python3.9/dist-packages (from nashpy) (1.10.1)\n",
            "Requirement already satisfied: networkx>=3.0.0 in /usr/local/lib/python3.9/dist-packages (from nashpy) (3.1)\n",
            "\u001b[33mWARNING: Running pip as the 'root' user can result in broken permissions and conflicting behaviour with the system package manager. It is recommended to use a virtual environment instead: https://pip.pypa.io/warnings/venv\u001b[0m\u001b[33m\n",
            "\u001b[0mLooking in indexes: https://pypi.org/simple, https://us-python.pkg.dev/colab-wheels/public/simple/\n",
            "Requirement already satisfied: quantecon in /usr/local/lib/python3.9/dist-packages (0.6.0)\n",
            "Requirement already satisfied: numba in /usr/local/lib/python3.9/dist-packages (from quantecon) (0.56.4)\n",
            "Requirement already satisfied: numpy>=1.17.0 in /usr/local/lib/python3.9/dist-packages (from quantecon) (1.22.4)\n",
            "Requirement already satisfied: requests in /usr/local/lib/python3.9/dist-packages (from quantecon) (2.27.1)\n",
            "Requirement already satisfied: scipy>=1.5.0 in /usr/local/lib/python3.9/dist-packages (from quantecon) (1.10.1)\n",
            "Requirement already satisfied: sympy in /usr/local/lib/python3.9/dist-packages (from quantecon) (1.11.1)\n",
            "Requirement already satisfied: llvmlite<0.40,>=0.39.0dev0 in /usr/local/lib/python3.9/dist-packages (from numba->quantecon) (0.39.1)\n",
            "Requirement already satisfied: setuptools in /usr/local/lib/python3.9/dist-packages (from numba->quantecon) (67.7.1)\n",
            "Requirement already satisfied: urllib3<1.27,>=1.21.1 in /usr/local/lib/python3.9/dist-packages (from requests->quantecon) (1.26.15)\n",
            "Requirement already satisfied: certifi>=2017.4.17 in /usr/local/lib/python3.9/dist-packages (from requests->quantecon) (2022.12.7)\n",
            "Requirement already satisfied: charset-normalizer~=2.0.0 in /usr/local/lib/python3.9/dist-packages (from requests->quantecon) (2.0.12)\n",
            "Requirement already satisfied: idna<4,>=2.5 in /usr/local/lib/python3.9/dist-packages (from requests->quantecon) (3.4)\n",
            "Requirement already satisfied: mpmath>=0.19 in /usr/local/lib/python3.9/dist-packages (from sympy->quantecon) (1.3.0)\n",
            "\u001b[33mWARNING: Running pip as the 'root' user can result in broken permissions and conflicting behaviour with the system package manager. It is recommended to use a virtual environment instead: https://pip.pypa.io/warnings/venv\u001b[0m\u001b[33m\n",
            "\u001b[0m"
          ]
        }
      ]
    },
    {
      "cell_type": "markdown",
      "source": [
        "Environment\n",
        "There are two players: the \"investor\" (A) and the \"trustee\"(B). The game starts with A.\n",
        "A is given an endowment and decides how much of that money to invest B. However the investment from A is, it will be tripled.\n",
        "\n",
        "\n",
        "---\n",
        "\n",
        "\n",
        "eg. If A got 5, A can choose any amount between 0 and 15 to invest B. If A chooses to invest 5, B receives 15. B then decides how much of that money to return to the investor. B can choose to return any amount between 0 and 15.\n",
        "\n",
        "---\n",
        "\n",
        "\n",
        "The game is repeated for several rounds, with the roles of investor and trustee switching between the two players. Both of them can negotiate with each other, but any of their promise in the negotiation may not actually work.\n",
        "This game is largely depend on the trust in each other and whether A and B choose to collaborate or not. The investor must decide how much to trust the trustee, and the trustee must decide how much to repay the investor's trust, where we should always take facts of social behavior into consideration in the real world."
      ],
      "metadata": {
        "id": "tagbMnbMOTq1"
      }
    },
    {
      "cell_type": "code",
      "source": [
        "import random\n",
        "\n",
        "# Define the players\n",
        "investor = \"A\"\n",
        "trustee = \"B\"\n",
        "\n",
        "# Define the endowment and multiplier\n",
        "initial = 5\n",
        "multiplier = 3\n",
        "\n",
        "# Define the max amount the investor can send\n",
        "max = 5\n",
        "\n",
        "# Generate a random amount for the investor to send\n",
        "send = random.randint(0, max)\n",
        "\n",
        "# Calculate the amount the trustee receives\n",
        "received = send * multiplier\n",
        "\n",
        "# how much trustee want to return\n",
        "Breturn = int(input(f\"{trustee}, how much do you want to return? (0-{received}) \"))\n",
        "\n",
        "# final amounts\n",
        "A_final = initial - send + Breturn\n",
        "B_final = initial + (received - Breturn)\n",
        "\n",
        "# Print the final amounts\n",
        "print(f\"{investor} sent {send} to {trustee}. {trustee} received {received} and returned {Breturn} to {investor}.\")\n",
        "print(f\"The final amount for {investor} is {A_final}.\")\n",
        "print(f\"The final amount for {trustee} is {B_final}.\")\n"
      ],
      "metadata": {
        "colab": {
          "base_uri": "https://localhost:8080/"
        },
        "id": "rZpFBrjFPkfv",
        "outputId": "5b978fc8-b5db-453c-f080-316d67193cc5"
      },
      "execution_count": 5,
      "outputs": [
        {
          "output_type": "stream",
          "name": "stdout",
          "text": [
            "B, how much do you want to return? (0-12) 5\n",
            "A sent 4 to B. B received 12 and returned 5 to A.\n",
            "The final amount for A is 6.\n",
            "The final amount for B is 12.\n"
          ]
        }
      ]
    },
    {
      "cell_type": "markdown",
      "source": [],
      "metadata": {
        "id": "15fPWGwBTbDF"
      }
    },
    {
      "cell_type": "markdown",
      "source": [
        "**How does Nash Equilibrium apply in trust game?**\n",
        "\n",
        "---\n",
        "\n",
        "Nash Equilibrium describes a state in which each player makes the best possible decision given the decisions of the other player. They have no additional incentive to change their own strategy. Also, strategies of players are in balance with each other, and no player can improve their payoff by changing their strategy on their own.\n",
        "\n",
        "Tif-for-Tat indicates Nash equilibrium in the trust game:\n",
        "With this strategy, the investor(A) sends a small amount to the trustee(B), and the trustee returns an amount proportional to A. It is stable and rather safe for both players because if the investor send less, the trustee would reciprocate by returning less."
      ],
      "metadata": {
        "id": "NsXPXToezb8h"
      }
    },
    {
      "cell_type": "markdown",
      "source": [
        "**Extensive game: Ultimatum game**"
      ],
      "metadata": {
        "id": "7YR0TfVh5ARq"
      }
    },
    {
      "cell_type": "markdown",
      "source": [
        "* **Introduction**\n",
        "\n",
        "ln this game, there are two players: a proposer and a responder. The proposer is endowed with money and must offer a portion of it to the responder. The responder can either accept the offer, in which case the money is split according to the proposal, or reject the offer, in which case neither player receives anything.\n",
        "\n",
        "  The game is represented in the extensive form as follows:\n",
        "\n",
        "  The game begins with the proposer making an offer to the responder.\n",
        "\n",
        "  The responder can either accept or reject the offer.\n",
        "\n",
        "  lf the responder accepts the offer, the money is split according to the proposal. lf the responder rejects the offer, neither player receives anything.\n",
        "* The game is called the \"ultimatum\" game because the proposer makes a final offer that the responder must either accept or reject. The game is often used to study fairness, reciprocity,and social norms. lt has been found that people tend to reject offers that they perceive as unfair, even if it means receiving nothing.\n",
        "\n",
        "  For example, if the proposer offers to split the 100 evenly with the responder, the responder is likely to accept the offer. However, if the proposer offers to keep 90 and give theresponder only 10 the responder may reject the offer as unfair, even though it means receiving nothing.\n",
        "  \n",
        "  ![image.png](data:image/png;base64,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)"
      ],
      "metadata": {
        "id": "wnZRU4lj4_B-"
      }
    },
    {
      "cell_type": "markdown",
      "source": [],
      "metadata": {
        "id": "Gw4VxHl_9Ale"
      }
    },
    {
      "cell_type": "code",
      "source": [
        "import random\n",
        "\n",
        "# Define the players\n",
        "proposer = \"Player 1\"\n",
        "responder = \"Player 2\"\n",
        "\n",
        "# Define the endowment\n",
        "total_amount = 10\n",
        "\n",
        "# Define the minimum amount the responder will accept\n",
        "min_accept = 0\n",
        "\n",
        "# Generate a random proposal\n",
        "proposal = random.randint(min_accept, total_amount)\n",
        "\n",
        "# Print the proposal\n",
        "print(f\"{proposer} proposes to split {total_amount} as follows: {total_amount-proposal} for {responder}.\")\n",
        "\n",
        "# Ask the responder whether they accept the proposal\n",
        "response = input(f\"{responder}, do you accept this proposal? (yes or no) \")\n",
        "\n",
        "# Determine the outcome based on the response\n",
        "if response.lower() == \"yes\":\n",
        "    print(\"The proposal was accepted. The money will be split as proposed.\")\n",
        "else:\n",
        "    print(\"The proposal was rejected. Both players receive nothing.\")\n"
      ],
      "metadata": {
        "colab": {
          "base_uri": "https://localhost:8080/"
        },
        "id": "J35PSCKm-jAj",
        "outputId": "7565a6b6-b15e-45d0-ae6d-f773e39d2948"
      },
      "execution_count": 15,
      "outputs": [
        {
          "output_type": "stream",
          "name": "stdout",
          "text": [
            "Player 1 proposes to split 10 as follows: 2 for Player 2.\n",
            "Player 2, do you accept this proposal? (yes or no) yes\n",
            "The proposal was accepted. The money will be split as proposed.\n"
          ]
        }
      ]
    },
    {
      "cell_type": "markdown",
      "source": [
        "Nash equilibrium\n",
        "\n",
        "Subgame Perfect Nash Equilibrium (SPNE):\n",
        "\n",
        "![image.png](data:image/png;base64,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)"
      ],
      "metadata": {
        "id": "XkAF0b7x9DEx"
      }
    },
    {
      "cell_type": "markdown",
      "source": [
        "In the Ultimatum game, the Nash equilibrium maximizes the expected payoff of two players. The responder's strategy is to accepting proposals that benefit greater than or equal to a certain minimum amount."
      ],
      "metadata": {
        "id": "tCJ6K5VDDpYg"
      }
    }
  ],
  "metadata": {
    "colab": {
      "name": "欢迎使用 Colaboratory",
      "provenance": []
    },
    "kernelspec": {
      "display_name": "Python 3",
      "name": "python3"
    }
  },
  "nbformat": 4,
  "nbformat_minor": 0
}